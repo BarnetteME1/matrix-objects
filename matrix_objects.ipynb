{
 "cells": [
  {
   "cell_type": "code",
   "execution_count": null,
   "metadata": {
    "collapsed": true
   },
   "outputs": [],
   "source": [
    "from functools import reduce\n",
    "\n",
    "\n",
    "class ShapeException(Exception):\n",
    "    pass\n",
    "\n",
    "\n",
    "def dot(vector_1, vector_2):\n",
    "    new_vector = []\n",
    "    if shape(vector_1) != shape(vector_2):\n",
    "        raise ShapeException()\n",
    "    vec_len = range(0,len(vector_1))\n",
    "    for pos in vec_len:\n",
    "        new_vector.append(vector_1[pos]*vector_2[pos])\n",
    "    return reduce(lambda x, y: x+y, new_vector)\n",
    "\n",
    "\n",
    "def magnitude(vector):\n",
    "    scalar = 0\n",
    "    vector_len = len(vector)\n",
    "    for spot in range(0, vector_len):\n",
    "        scalar += (vector[spot] **2)\n",
    "    return (scalar **(1/2))\n",
    "\n",
    "\n",
    "def shape(vertrices):\n",
    "    length = []\n",
    "    column = []\n",
    "    length.append(len(vertrices))\n",
    "    for list in vertrices:\n",
    "        try:\n",
    "            column = (len(list))\n",
    "        except:\n",
    "            continue\n",
    "    if column != []:\n",
    "        length.append(column)\n",
    "    return tuple(length)\n",
    "\n",
    "\n",
    "def vector_add(vector_1, vector_2):\n",
    "    new_vector = []\n",
    "    if shape(vector_1) != shape(vector_2):\n",
    "        raise ShapeException()\n",
    "    vec_len = range(0,len(vector_1))\n",
    "    for pos in vec_len:\n",
    "        new_vector.append(vector_1[pos] + vector_2[pos])\n",
    "    return new_vector\n",
    "\n",
    "\n",
    "def vector_sub(vector_1, vector_2):\n",
    "    new_vector = []\n",
    "    if shape(vector_1) != shape(vector_2):\n",
    "        raise ShapeException()\n",
    "    vec_len = range(0,len(vector_1))\n",
    "    for pos in vec_len:\n",
    "        new_vector.append(vector_1[pos] - vector_2[pos])\n",
    "    return new_vector\n",
    "\n",
    "\n",
    "def vector_sum(*vectors):\n",
    "    vector_len = len(vectors)\n",
    "    for vect_num in range(0,vector_len-1):\n",
    "        if shape(vectors[vect_num]) != shape(vectors[vect_num+1]):\n",
    "            raise ShapeException()\n",
    "    posi = 0\n",
    "    new_vec = []\n",
    "    for pos in range(0, vector_len):\n",
    "        new_number = 0\n",
    "        for vector in vectors:\n",
    "            new_number += vector[pos]\n",
    "        new_vec.append(new_number)\n",
    "    return new_vec\n",
    "\n",
    "\n",
    "def vector_multiply(vector_1, scalar):\n",
    "    new_vector = []\n",
    "    vec_len = range(0,len(vector_1))\n",
    "    for pos in vec_len:\n",
    "        new_vector.append(vector_1[pos] *scalar)\n",
    "    return new_vector\n",
    "\n",
    "\n",
    "def vector_mean(*vectors):\n",
    "    new_vector = vector_sum(*vectors)\n",
    "    len_vectors = len(vectors)\n",
    "    multi_vector = vector_multiply(new_vector, (1/len_vectors))\n",
    "    return multi_vector\n",
    "\n",
    "\n",
    "def matrix_row(matrix, num):\n",
    "    return matrix[num]\n",
    "\n",
    "\n",
    "def matrix_col(matrix, num):\n",
    "    col = []\n",
    "    for line in matrix:\n",
    "        col.append(line[num])\n",
    "    return col\n",
    "\n",
    "\n",
    "def matrix_scalar_multiply(matrix, scalar):\n",
    "    new_matrix = []\n",
    "    for row in matrix:\n",
    "        new_row = 0\n",
    "        for column in row:\n",
    "            new_row += column * scalar\n",
    "        new_matrix.append(new_row)\n",
    "    return new_matrix\n",
    "\n",
    "\n",
    "def matrix_vector_multiply(matrix, vector):\n",
    "    len_vec = len(vector)\n",
    "    new_vec = []\n",
    "    if shape(matrix)[0] != shape(vector)[0]:\n",
    "        raise ShapeException()\n",
    "    for row in matrix:\n",
    "        number = 0\n",
    "        for pos in range(0,len_vec):\n",
    "            number += (vector[pos] * row[pos])\n",
    "        new_vec.append(number)\n",
    "    return new_vec\n",
    "\n",
    "\n",
    "def matrix_matrix_multiply(matrix_1, matrix_2):\n",
    "    new_matrix = []\n",
    "    len_m2_row = len(matrix_2[0])\n",
    "    len_m2_col = len(matrix_2)\n",
    "    len_m1_row = len(matrix_1[0])\n",
    "    len_m1_col = len(matrix_1)\n",
    "    new_m2 = []\n",
    "    if shape(matrix_1)[1] != shape(matrix_2)[0]:\n",
    "        raise ShapeException()\n",
    "    for pos2 in range(len_m2_row):\n",
    "        new_m2_row = []\n",
    "        new_m2_row += matrix_col(matrix_2, pos2)\n",
    "        new_m2.append(new_m2_row)\n",
    "    for posit in range(0, len_m1_col):\n",
    "        new_row = []\n",
    "        for posi in range(0,len_m2_row):\n",
    "            new_num = 0\n",
    "            for pos in range(0, len_m1_row):\n",
    "                new_num += (matrix_1[posit][pos] * new_m2[posi][pos])\n",
    "            new_row.append(new_num)\n",
    "        new_matrix.append(new_row)\n",
    "    return new_matrix"
   ]
  },
  {
   "cell_type": "code",
   "execution_count": 217,
   "metadata": {
    "collapsed": false
   },
   "outputs": [],
   "source": [
    "from functools import reduce\n",
    "\n",
    "class Vector(list):\n",
    "    \n",
    "    def __init__(self, vector1):\n",
    "        self.vector1 = vector1\n",
    "\n",
    "    def __str__(self):\n",
    "        return \"{}\".format(self.vector1)\n",
    "\n",
    "    def shape(self):\n",
    "        return len(self.vector1)\n",
    "\n",
    "    def shape_rule(self):\n",
    "        raise ValueError(\"Incompatible shapes\")\n",
    "\n",
    "    def shape_check(self, other):\n",
    "        if self.shape() != other.shape():\n",
    "            return self.shape_rule()\n",
    "        \n",
    "    def __add__(self, other):\n",
    "        self.shape_check(other)\n",
    "        new_vector = []\n",
    "        for num in range(self.shape()):\n",
    "            new_vector.append(self.vector1[num] + other.vector1[num])\n",
    "        return new_vector\n",
    "    \n",
    "    def __sub__(self, other):\n",
    "        self.shape_check(other)\n",
    "        new_vector = []\n",
    "        for num in range(self.shape()):\n",
    "            new_vector.append(self.vector1[num] - other.vector1[num])\n",
    "        return new_vector\n",
    "    \n",
    "    def __mul__(self, other):\n",
    "        new_vector = []\n",
    "        for num in range(self.shape()):\n",
    "            new_vector.append(self.vector1[num] * other)\n",
    "        return new_vector\n",
    "    \n",
    "    def dot(self, other):\n",
    "        new_vector = []\n",
    "        self.shape_check(other)\n",
    "        vec_len = range(len(self.vector1))\n",
    "        for pos in vec_len:\n",
    "            new_vector.append(self.vector1[pos]*other.vector1[pos])\n",
    "        return reduce(lambda x, y: x+y, new_vector)\n",
    "    \n",
    "    \n",
    "    def magnitude(self):\n",
    "        scalar = 0\n",
    "        vector_len = len(self.vector1)\n",
    "        for spot in range(0, vector_len):\n",
    "            scalar += (self.vector1[spot] **2)\n",
    "        return (scalar **(1/2))\n"
   ]
  },
  {
   "cell_type": "code",
   "execution_count": 216,
   "metadata": {
    "collapsed": false
   },
   "outputs": [],
   "source": [
    "class Matrix(Vector):\n",
    "    \n",
    "    def __init__(self, matrix1):\n",
    "        self.matrix1 = matrix1\n",
    "    \n",
    "    def matrix_shape(self):\n",
    "        column = len(self.matrix1)\n",
    "        row = len(self.matrix1[0])\n",
    "        return column, row\n",
    "    \n",
    "    def shape_check(self, other):\n",
    "        if \n",
    "    \n",
    "    def shape(self):\n",
    "        column = len(self.matrix1)\n",
    "        row = len(self.matrix1[0])\n",
    "        return column, row\n",
    "    \n",
    "    def shape_rule(other):\n",
    "        raise ValueError(\"Incompatible shapes\")\n",
    "    \n",
    "    def __add__(self, other):\n",
    "        if self.matrix_shape() != other.matrix_shape():\n",
    "            return shape_rule()\n",
    "        "
   ]
  },
  {
   "cell_type": "code",
   "execution_count": 215,
   "metadata": {
    "collapsed": false
   },
   "outputs": [],
   "source": [
    "Steve = Vector([1,3,5])\n",
    "Stan = Vector([4,2,0])\n",
    "Rodger = Matrix([[1,2],[4,3][7,6,]])\n",
    "F"
   ]
  },
  {
   "cell_type": "code",
   "execution_count": 178,
   "metadata": {
    "collapsed": false
   },
   "outputs": [
    {
     "name": "stdout",
     "output_type": "stream",
     "text": [
      "[4, 2, 0]\n"
     ]
    }
   ],
   "source": [
    "print(Stan)"
   ]
  },
  {
   "cell_type": "code",
   "execution_count": 179,
   "metadata": {
    "collapsed": false
   },
   "outputs": [
    {
     "data": {
      "text/plain": [
       "[-3, 1, 5]"
      ]
     },
     "execution_count": 179,
     "metadata": {},
     "output_type": "execute_result"
    }
   ],
   "source": [
    "Steve - Stan"
   ]
  },
  {
   "cell_type": "code",
   "execution_count": 180,
   "metadata": {
    "collapsed": false
   },
   "outputs": [
    {
     "name": "stdout",
     "output_type": "stream",
     "text": [
      "[20, 60, 100]\n"
     ]
    }
   ],
   "source": [
    "print(Steve * 20)"
   ]
  },
  {
   "cell_type": "code",
   "execution_count": 213,
   "metadata": {
    "collapsed": false
   },
   "outputs": [
    {
     "data": {
      "text/plain": [
       "10"
      ]
     },
     "execution_count": 213,
     "metadata": {},
     "output_type": "execute_result"
    }
   ],
   "source": [
    "Stan.dot(Steve)"
   ]
  },
  {
   "cell_type": "code",
   "execution_count": null,
   "metadata": {
    "collapsed": true
   },
   "outputs": [],
   "source": []
  }
 ],
 "metadata": {
  "kernelspec": {
   "display_name": "Python 3",
   "language": "python",
   "name": "python3"
  },
  "language_info": {
   "codemirror_mode": {
    "name": "ipython",
    "version": 3
   },
   "file_extension": ".py",
   "mimetype": "text/x-python",
   "name": "python",
   "nbconvert_exporter": "python",
   "pygments_lexer": "ipython3",
   "version": "3.5.0"
  }
 },
 "nbformat": 4,
 "nbformat_minor": 0
}
